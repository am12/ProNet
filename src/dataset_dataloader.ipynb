{
 "cells": [
  {
   "cell_type": "code",
   "execution_count": 11,
   "id": "d0439dd2-ee9c-43eb-9c18-f581693112bd",
   "metadata": {
    "tags": []
   },
   "outputs": [],
   "source": [
    "import os\n",
    "import csv\n",
    "import torch\n",
    "import numpy as np\n",
    "import pandas as pd\n",
    "import matplotlib.pyplot as plt\n",
    "from torch.utils.data import Dataset\n",
    "from PIL import Image\n",
    "import torchvision.transforms as transforms"
   ]
  },
  {
   "cell_type": "code",
   "execution_count": 36,
   "id": "449c2bde-f21b-4753-b26c-d3696904b5dc",
   "metadata": {
    "tags": []
   },
   "outputs": [],
   "source": [
    "class HandsDataset(Dataset):\n",
    "    \"\"\"\n",
    "    HandsDataset\n",
    "    \"\"\"\n",
    "\n",
    "    def __init__(self,\n",
    "                 data_csv,\n",
    "                 norm_dict=None,\n",
    "                 cuda=True):\n",
    "        \"\"\"\n",
    "        Args:\n",
    "            data_dir: path to dataset\n",
    "            norm_dict: if None: no normalization, if dict contains 'mean' and 'std': standardize, if dict contains 'min' and 'max': normalize.\n",
    "            cuda: whether to use GPU.\n",
    "        \"\"\"\n",
    "        self.csv = data_csv\n",
    "        self.df = pd.read_csv(self.csv)\n",
    "        self.norm_dict = norm_dict\n",
    "        self.cuda = cuda\n",
    "        self.transform = transform = transforms.Compose([ \n",
    "            transforms.PILToTensor() \n",
    "        ]) \n",
    "\n",
    "    def __len__(self):\n",
    "        \"\"\"\n",
    "        Returns the number of samples in the dataset.\n",
    "        \"\"\"\n",
    "        return len(self.df)\n",
    "\n",
    "    def __getitem__(self, idx):\n",
    "        \"\"\"\n",
    "        Returns the idx-th sample from the dataset.\n",
    "        \"\"\"\n",
    "        # Get Label: Int\n",
    "        label = self.df['label'][idx]\n",
    "                \n",
    "        # Get Data Tensor: [250, 20]\n",
    "        sequence = self.df['sequences'][idx].strip()\n",
    "        sequence = np.pad(list(sequence), [0, (250 * 20) - len(sequence)])\n",
    "        sequence = np.array(sequence).reshape(250, 20)\n",
    "        return sequence, label\n",
    "\n",
    "    def standardize(self, X):\n",
    "        \"\"\"\n",
    "        Returns the standardized version of X.\n",
    "        \"\"\"\n",
    "        #temp = X.permute(0, 2, 3, 1)\n",
    "        #x = (temp - self.norm_dict['mean']) / self.norm_dict['std']\n",
    "        return X\n",
    "        \n",
    "    def normalize(self, X):\n",
    "        \"\"\"\n",
    "        Returns the normalized version of X.\n",
    "        \"\"\"\n",
    "        #temp = X.permute(0, 2, 3, 1)\n",
    "        #x = (temp - self.norm_dict['min']) / (self.norm_dict['max'] - self.norm_dict['min'])\n",
    "        return X"
   ]
  },
  {
   "cell_type": "code",
   "execution_count": 37,
   "id": "8dc0b8c7-0ae6-4870-acea-a465defc842c",
   "metadata": {
    "tags": []
   },
   "outputs": [],
   "source": [
    "from torch.utils.data import DataLoader\n",
    "\n",
    "CUDA = torch.cuda.is_available()\n",
    "\n",
    "test_dataset = HandsDataset(\"test.csv\", None, CUDA)\n",
    "test_dataloader = DataLoader(test_dataset, batch_size = 4, shuffle=True)"
   ]
  },
  {
   "cell_type": "code",
   "execution_count": null,
   "id": "7f859dd9-e73e-461f-b8f8-cebe84a5b8e3",
   "metadata": {},
   "outputs": [],
   "source": []
  }
 ],
 "metadata": {
  "kernelspec": {
   "display_name": "Python 3 (ipykernel)",
   "language": "python",
   "name": "python3"
  },
  "language_info": {
   "codemirror_mode": {
    "name": "ipython",
    "version": 3
   },
   "file_extension": ".py",
   "mimetype": "text/x-python",
   "name": "python",
   "nbconvert_exporter": "python",
   "pygments_lexer": "ipython3",
   "version": "3.11.5"
  }
 },
 "nbformat": 4,
 "nbformat_minor": 5
}
